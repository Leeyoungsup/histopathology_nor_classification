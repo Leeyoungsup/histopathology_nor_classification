{
 "cells": [
  {
   "cell_type": "code",
   "execution_count": 1,
   "metadata": {},
   "outputs": [],
   "source": [
    "import numpy as np\n",
    "import slideio\n",
    "import cv2\n",
    "import json\n",
    "import matplotlib.path as mpltPath\n",
    "import os\n",
    "import warnings\n",
    "import tifffile\n",
    "from skimage import exposure\n",
    "from skimage.exposure import match_histograms\n",
    "import xml.etree.ElementTree as ET\n",
    "import pandas as pd\n",
    "from PIL import Image\n",
    "from math import sqrt\n",
    "import matplotlib.pyplot as plt\n",
    "from glob import glob\n",
    "from copy import copy\n",
    "from tqdm.notebook import tqdm\n",
    "import warnings\n",
    "import staintools\n",
    "import shutil\n",
    "from sklearn.model_selection import train_test_split"
   ]
  },
  {
   "cell_type": "code",
   "execution_count": 2,
   "metadata": {},
   "outputs": [
    {
     "data": {
      "text/html": [
       "<div>\n",
       "<style scoped>\n",
       "    .dataframe tbody tr th:only-of-type {\n",
       "        vertical-align: middle;\n",
       "    }\n",
       "\n",
       "    .dataframe tbody tr th {\n",
       "        vertical-align: top;\n",
       "    }\n",
       "\n",
       "    .dataframe thead th {\n",
       "        text-align: right;\n",
       "    }\n",
       "</style>\n",
       "<table border=\"1\" class=\"dataframe\">\n",
       "  <thead>\n",
       "    <tr style=\"text-align: right;\">\n",
       "      <th></th>\n",
       "      <th>PathologyNumber</th>\n",
       "      <th>RecriptDate</th>\n",
       "      <th>P53</th>\n",
       "      <th>MLH1</th>\n",
       "      <th>MSH2</th>\n",
       "      <th>MSH6</th>\n",
       "      <th>PMS2</th>\n",
       "      <th>MMR status</th>\n",
       "      <th>Subtype(1,endometrioid;2,serous;3,clear;4mixed;5etc;6MMMT)</th>\n",
       "    </tr>\n",
       "  </thead>\n",
       "  <tbody>\n",
       "    <tr>\n",
       "      <th>0</th>\n",
       "      <td>S10-01345</td>\n",
       "      <td>2010-01-18</td>\n",
       "      <td>Wild</td>\n",
       "      <td>0</td>\n",
       "      <td>1</td>\n",
       "      <td>1</td>\n",
       "      <td>0</td>\n",
       "      <td>Defect</td>\n",
       "      <td>1</td>\n",
       "    </tr>\n",
       "    <tr>\n",
       "      <th>1</th>\n",
       "      <td>S10-01350</td>\n",
       "      <td>2010-01-18</td>\n",
       "      <td>Wild</td>\n",
       "      <td>1</td>\n",
       "      <td>1</td>\n",
       "      <td>1</td>\n",
       "      <td>1</td>\n",
       "      <td>Normal</td>\n",
       "      <td>1</td>\n",
       "    </tr>\n",
       "    <tr>\n",
       "      <th>2</th>\n",
       "      <td>S10-03151</td>\n",
       "      <td>2010-02-08</td>\n",
       "      <td>Wild</td>\n",
       "      <td>1</td>\n",
       "      <td>1</td>\n",
       "      <td>1</td>\n",
       "      <td>1</td>\n",
       "      <td>Normal</td>\n",
       "      <td>1</td>\n",
       "    </tr>\n",
       "    <tr>\n",
       "      <th>3</th>\n",
       "      <td>S10-06438</td>\n",
       "      <td>2010-03-19</td>\n",
       "      <td>Wild</td>\n",
       "      <td>1</td>\n",
       "      <td>1</td>\n",
       "      <td>1</td>\n",
       "      <td>1</td>\n",
       "      <td>Normal</td>\n",
       "      <td>1</td>\n",
       "    </tr>\n",
       "    <tr>\n",
       "      <th>4</th>\n",
       "      <td>S10-07753</td>\n",
       "      <td>2010-04-05</td>\n",
       "      <td>Wild</td>\n",
       "      <td>1</td>\n",
       "      <td>1</td>\n",
       "      <td>1</td>\n",
       "      <td>1</td>\n",
       "      <td>Normal</td>\n",
       "      <td>1</td>\n",
       "    </tr>\n",
       "    <tr>\n",
       "      <th>...</th>\n",
       "      <td>...</td>\n",
       "      <td>...</td>\n",
       "      <td>...</td>\n",
       "      <td>...</td>\n",
       "      <td>...</td>\n",
       "      <td>...</td>\n",
       "      <td>...</td>\n",
       "      <td>...</td>\n",
       "      <td>...</td>\n",
       "    </tr>\n",
       "    <tr>\n",
       "      <th>320</th>\n",
       "      <td>S22-19730</td>\n",
       "      <td>2022-08-23</td>\n",
       "      <td>Wild</td>\n",
       "      <td>0</td>\n",
       "      <td>1</td>\n",
       "      <td>1</td>\n",
       "      <td>0</td>\n",
       "      <td>Defect</td>\n",
       "      <td>1</td>\n",
       "    </tr>\n",
       "    <tr>\n",
       "      <th>321</th>\n",
       "      <td>S22-19946</td>\n",
       "      <td>2022-08-25</td>\n",
       "      <td>Wild</td>\n",
       "      <td>1</td>\n",
       "      <td>1</td>\n",
       "      <td>1</td>\n",
       "      <td>1</td>\n",
       "      <td>Normal</td>\n",
       "      <td>1</td>\n",
       "    </tr>\n",
       "    <tr>\n",
       "      <th>322</th>\n",
       "      <td>S22-20342</td>\n",
       "      <td>2022-08-30</td>\n",
       "      <td>Wild</td>\n",
       "      <td>1</td>\n",
       "      <td>1</td>\n",
       "      <td>1</td>\n",
       "      <td>1</td>\n",
       "      <td>Normal</td>\n",
       "      <td>1</td>\n",
       "    </tr>\n",
       "    <tr>\n",
       "      <th>323</th>\n",
       "      <td>S22-21614</td>\n",
       "      <td>2022-09-15</td>\n",
       "      <td>Wild</td>\n",
       "      <td>1</td>\n",
       "      <td>1</td>\n",
       "      <td>1</td>\n",
       "      <td>1</td>\n",
       "      <td>Normal</td>\n",
       "      <td>1</td>\n",
       "    </tr>\n",
       "    <tr>\n",
       "      <th>324</th>\n",
       "      <td>S22-21996</td>\n",
       "      <td>2022-09-20</td>\n",
       "      <td>Wild</td>\n",
       "      <td>0</td>\n",
       "      <td>1</td>\n",
       "      <td>1</td>\n",
       "      <td>0</td>\n",
       "      <td>Defect</td>\n",
       "      <td>1</td>\n",
       "    </tr>\n",
       "  </tbody>\n",
       "</table>\n",
       "<p>325 rows × 9 columns</p>\n",
       "</div>"
      ],
      "text/plain": [
       "    PathologyNumber RecriptDate   P53  MLH1  MSH2  MSH6  PMS2 MMR status  \\\n",
       "0         S10-01345  2010-01-18  Wild     0     1     1     0     Defect   \n",
       "1         S10-01350  2010-01-18  Wild     1     1     1     1     Normal   \n",
       "2         S10-03151  2010-02-08  Wild     1     1     1     1     Normal   \n",
       "3         S10-06438  2010-03-19  Wild     1     1     1     1     Normal   \n",
       "4         S10-07753  2010-04-05  Wild     1     1     1     1     Normal   \n",
       "..              ...         ...   ...   ...   ...   ...   ...        ...   \n",
       "320       S22-19730  2022-08-23  Wild     0     1     1     0     Defect   \n",
       "321       S22-19946  2022-08-25  Wild     1     1     1     1     Normal   \n",
       "322       S22-20342  2022-08-30  Wild     1     1     1     1     Normal   \n",
       "323       S22-21614  2022-09-15  Wild     1     1     1     1     Normal   \n",
       "324       S22-21996  2022-09-20  Wild     0     1     1     0     Defect   \n",
       "\n",
       "     Subtype(1,endometrioid;2,serous;3,clear;4mixed;5etc;6MMMT)  \n",
       "0                                                    1           \n",
       "1                                                    1           \n",
       "2                                                    1           \n",
       "3                                                    1           \n",
       "4                                                    1           \n",
       "..                                                 ...           \n",
       "320                                                  1           \n",
       "321                                                  1           \n",
       "322                                                  1           \n",
       "323                                                  1           \n",
       "324                                                  1           \n",
       "\n",
       "[325 rows x 9 columns]"
      ]
     },
     "execution_count": 2,
     "metadata": {},
     "output_type": "execute_result"
    }
   ],
   "source": [
    "folder_list=  glob('../../data/gcu/tile/**/')\n",
    "label_df=pd.read_csv('../../data/gcu/P53&MMR.csv')\n",
    "label_df"
   ]
  },
  {
   "cell_type": "code",
   "execution_count": 3,
   "metadata": {},
   "outputs": [
    {
     "data": {
      "application/vnd.jupyter.widget-view+json": {
       "model_id": "47644bf989634858bdcd60f6c9b32b91",
       "version_major": 2,
       "version_minor": 0
      },
      "text/plain": [
       "  0%|          | 0/1110 [00:00<?, ?it/s]"
      ]
     },
     "metadata": {},
     "output_type": "display_data"
    }
   ],
   "source": [
    "y=[]\n",
    "x=[]\n",
    "y1=[]\n",
    "for i in tqdm(range(len(folder_list))):\n",
    "    PathologyNumber=os.path.basename(os.path.dirname(folder_list[i])).split('-')[0]+'-'+os.path.basename(os.path.dirname(folder_list[i])).split('-')[1]\n",
    "    if len(label_df.loc[label_df['PathologyNumber']==PathologyNumber])!=0:\n",
    "        x.append(folder_list[i])\n",
    "        mmrd=label_df.loc[label_df['PathologyNumber']==PathologyNumber]['MMR status']\n",
    "        p53=label_df.loc[label_df['PathologyNumber']==PathologyNumber]['P53']\n",
    "        if mmrd.reset_index()['MMR status'][0]=='Defect':\n",
    "            y.append(1)\n",
    "        else:\n",
    "            y.append(0)\n",
    "            \n",
    "        if p53.reset_index()['P53'][0]=='Wild':\n",
    "            y1.append(0)\n",
    "        else:\n",
    "            y1.append(1)\n",
    "    "
   ]
  },
  {
   "cell_type": "code",
   "execution_count": 4,
   "metadata": {},
   "outputs": [
    {
     "data": {
      "application/vnd.jupyter.widget-view+json": {
       "model_id": "71e00312e53c43c6b6b4686429fcfbae",
       "version_major": 2,
       "version_minor": 0
      },
      "text/plain": [
       "  0%|          | 0/817 [00:00<?, ?it/s]"
      ]
     },
     "metadata": {},
     "output_type": "display_data"
    },
    {
     "data": {
      "application/vnd.jupyter.widget-view+json": {
       "model_id": "df5759bfa68343999953dc0e51b7f312",
       "version_major": 2,
       "version_minor": 0
      },
      "text/plain": [
       "  0%|          | 0/91 [00:00<?, ?it/s]"
      ]
     },
     "metadata": {},
     "output_type": "display_data"
    },
    {
     "data": {
      "application/vnd.jupyter.widget-view+json": {
       "model_id": "47ada57039d24440905e966b60d2dd02",
       "version_major": 2,
       "version_minor": 0
      },
      "text/plain": [
       "  0%|          | 0/817 [00:00<?, ?it/s]"
      ]
     },
     "metadata": {},
     "output_type": "display_data"
    },
    {
     "data": {
      "application/vnd.jupyter.widget-view+json": {
       "model_id": "fa135c4e83a5467b818ae1246743c583",
       "version_major": 2,
       "version_minor": 0
      },
      "text/plain": [
       "  0%|          | 0/91 [00:00<?, ?it/s]"
      ]
     },
     "metadata": {},
     "output_type": "display_data"
    }
   ],
   "source": [
    "X_train, X_test, MMR_train, MMR_test= train_test_split(x,y, test_size=0.1,stratify=y, random_state=123)\n",
    "X_train1, X_test1, P53_train, P53_test= train_test_split(x,y1, test_size=0.1,stratify=y, random_state=123)\n",
    "os.path.basename(os.path.dirname(folder_list[i]))\n",
    "for i in tqdm(range(len(X_train))):\n",
    "    if MMR_train[i]==1:\n",
    "        shutil.copytree(X_train[i],'../../data/dataset/gcu/MMRd/train/Defect/'+os.path.basename(os.path.dirname(X_train[i])))\n",
    "    else:\n",
    "        shutil.copytree(X_train[i],'../../data/dataset/gcu/MMRd/train/Normal/'+os.path.basename(os.path.dirname(X_train[i])))\n",
    "\n",
    "for i in tqdm(range(len(X_test))):\n",
    "    if MMR_train[i]==1:\n",
    "        shutil.copytree(X_test[i],'../../data/dataset/gcu/MMRd/test/Defect/'+os.path.basename(os.path.dirname(X_test[i])))\n",
    "    else:\n",
    "        shutil.copytree(X_test[i],'../../data/dataset/gcu/MMRd/test/Normal/'+os.path.basename(os.path.dirname(X_test[i])))\n",
    "    \n",
    "for i in tqdm(range(len(X_train1))):\n",
    "    if P53_train[i]==1:\n",
    "        shutil.copytree(X_train1[i],'../../data/dataset/gcu/P53/train/Missense/'+os.path.basename(os.path.dirname(X_train1[i])))\n",
    "    else:\n",
    "        shutil.copytree(X_train1[i],'../../data/dataset/gcu/P53/train/Wild/'+os.path.basename(os.path.dirname(X_train1[i])))\n",
    "\n",
    "for i in tqdm(range(len(X_test1))):\n",
    "    if P53_test[i]==1:\n",
    "        shutil.copytree(X_test1[i],'../../data/dataset/gcu/P53/test/Missense/'+os.path.basename(os.path.dirname(X_test1[i])))\n",
    "    else:\n",
    "        shutil.copytree(X_test1[i],'../../data/dataset/gcu/P53/test/Wild/'+os.path.basename(os.path.dirname(X_test1[i])))"
   ]
  },
  {
   "cell_type": "code",
   "execution_count": 93,
   "metadata": {},
   "outputs": [
    {
     "data": {
      "text/plain": [
       "0"
      ]
     },
     "execution_count": 93,
     "metadata": {},
     "output_type": "execute_result"
    }
   ],
   "source": [
    "MMR_train[i]"
   ]
  },
  {
   "cell_type": "code",
   "execution_count": 91,
   "metadata": {},
   "outputs": [
    {
     "data": {
      "text/plain": [
       "''"
      ]
     },
     "execution_count": 91,
     "metadata": {},
     "output_type": "execute_result"
    }
   ],
   "source": [
    "'../../data/dataset/gcu/MMRd/train/Normal/'+os.path.basename(X_train[i])"
   ]
  }
 ],
 "metadata": {
  "kernelspec": {
   "display_name": "LeeYS",
   "language": "python",
   "name": "python3"
  },
  "language_info": {
   "codemirror_mode": {
    "name": "ipython",
    "version": 3
   },
   "file_extension": ".py",
   "mimetype": "text/x-python",
   "name": "python",
   "nbconvert_exporter": "python",
   "pygments_lexer": "ipython3",
   "version": "3.9.0"
  }
 },
 "nbformat": 4,
 "nbformat_minor": 2
}
