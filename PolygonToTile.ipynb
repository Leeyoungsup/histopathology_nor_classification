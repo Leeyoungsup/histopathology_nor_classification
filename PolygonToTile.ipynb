{
 "cells": [
  {
   "cell_type": "code",
   "execution_count": null,
   "metadata": {},
   "outputs": [],
   "source": [
    "import numpy as np\n",
    "import slideio\n",
    "import cv2\n",
    "import json\n",
    "import matplotlib.path as mpltPath\n",
    "import os\n",
    "import warnings\n",
    "import tifffile\n",
    "from skimage import exposure\n",
    "from skimage.exposure import match_histograms\n",
    "import xml.etree.ElementTree as ET\n",
    "import pandas as pd\n",
    "from PIL import Image\n",
    "from math import sqrt\n",
    "import matplotlib.pyplot as plt\n",
    "from glob import glob\n",
    "from copy import copy\n",
    "from tqdm.notebook import tqdm\n",
    "import warnings\n",
    "import staintools\n",
    "\n",
    "# 경고 메시지를 무시하도록 설정\n",
    "warnings.filterwarnings(\"ignore\")"
   ]
  },
  {
   "cell_type": "code",
   "execution_count": null,
   "metadata": {},
   "outputs": [],
   "source": [
    "MMRstatus_data=pd.read_csv('../../data/OriginalData/P53&MMR.csv',encoding='cp949')\n",
    "def svsToTiff(imageCount):\n",
    "    global svsWidth,svsHeight,path,scene,fileName\n",
    "    slide_tile_size=4096\n",
    "    for widthCount in range(0, int(svsWidth // slide_tile_size)):\n",
    "        for heightCount in range(0, int(svsHeight // slide_tile_size)):\n",
    "            points = np.array([path.contains_point(np.array([widthCount* slide_tile_size, heightCount* slide_tile_size])), path.contains_point(np.array([widthCount* slide_tile_size, (heightCount+1)* slide_tile_size])), \n",
    "                                 path.contains_point(np.array([(widthCount+1)* slide_tile_size, heightCount* slide_tile_size])),\n",
    "                                path.contains_point(np.array([(widthCount+1)* slide_tile_size, (heightCount+1)* slide_tile_size]))])\n",
    "            inside = np.mean(points)>=0.5\n",
    "            Full=np.mean(points)>=0\n",
    "            if (inside):\n",
    "                image = scene.read_block((widthCount * slide_tile_size, heightCount * slide_tile_size, slide_tile_size, slide_tile_size),size=(200,200))\n",
    "                if np.where(image[:,:,1]>=230)[0].shape[0]<(200*200)/4:\n",
    "                    TiffImageSave(image, fileName, widthCount,heightCount)\n",
    "                    imageCount += 1\n",
    "            \n",
    "    return imageCount\n",
    "def TiffImageSave(image1,fileName,widthCount,heightCount):\n",
    "    global normalizer2x,normalizer5x,normalizer10x,tmp_img\n",
    "    img=Image.fromarray(image1) \n",
    "    img.save('../../data/figure/tile/'+fileName+'_'+str(widthCount*4096)+'_'+str(heightCount*4096)+'_0'+'.jpg')\n",
    "def createDirectory(directory):\n",
    "    try:\n",
    "        if not os.path.exists(directory):\n",
    "            os.makedirs(directory)\n",
    "    except OSError:\n",
    "        print(\"Error: Failed to create the directory.\")    \n",
    "      \n",
    "    "
   ]
  },
  {
   "cell_type": "code",
   "execution_count": null,
   "metadata": {},
   "outputs": [],
   "source": [
    "svs_files=glob('../../data/OriginalData/svs/*.svs')\n",
    "svs_files=['../../data/OriginalData/svs/S20-08097-8.svs']\n",
    "xml_files = [f.replace('/svs', '/xml') for f in svs_files]\n",
    "xml_files = [f.replace('.svs', '.xml') for f in xml_files ]"
   ]
  },
  {
   "cell_type": "code",
   "execution_count": null,
   "metadata": {},
   "outputs": [],
   "source": [
    "for i in tqdm(range(len(svs_files))):\n",
    "   \n",
    "    file_extension_index=svs_files[i].find('.svs')\n",
    "    fileName=os.path.basename(os.path.splitext(svs_files[i])[0])\n",
    "    slide = slideio.open_slide(svs_files[i], \"SVS\")\n",
    "    scene = slide.get_scene(0)\n",
    "    svsWidth = scene.rect[2]\n",
    "    svsHeight = scene.rect[3]\n",
    "    imageCount=0\n",
    "    magnification=80\n",
    "    tile_size=256\n",
    "    xml_open=xml_files[i]\n",
    "    polygon_xml = ET.parse(xml_open)\n",
    "    root = polygon_xml.getroot()\n",
    "    root=list(root)[0]\n",
    "    root=list(root)\n",
    "    imageCount=0\n",
    "    for annotation_count in range(len(root)):\n",
    "        root1 =list(root[annotation_count])[0]\n",
    "        polygon=[]\n",
    "        for polygon_count in root1.iter('Coordinate'): \n",
    "            polygon.append([int(float(polygon_count.attrib['X'])),int(float(polygon_count.attrib['Y']))])\n",
    "        path = mpltPath.Path(polygon)\n",
    "        imageCount=svsToTiff(imageCount)\n"
   ]
  },
  {
   "cell_type": "code",
   "execution_count": null,
   "metadata": {},
   "outputs": [],
   "source": [
    "svs_files=glob('../../data/OriginalData/svs/*.svs')\n",
    "svs_files=['../../data/OriginalData/svs/S20-08097-8.svs']\n",
    "xml_files = [f.replace('/svs', '/xml') for f in svs_files]\n",
    "xml_files = [f.replace('.svs', '.xml') for f in xml_files ]"
   ]
  },
  {
   "cell_type": "code",
   "execution_count": 69,
   "metadata": {},
   "outputs": [],
   "source": [
    "tile_weight=glob('../../data/figure/tile/*.jpg')\n"
   ]
  },
  {
   "cell_type": "code",
   "execution_count": 77,
   "metadata": {},
   "outputs": [
    {
     "data": {
      "application/vnd.jupyter.widget-view+json": {
       "model_id": "5d8e08067eca43ab8e508d7c04bfbaa4",
       "version_major": 2,
       "version_minor": 0
      },
      "text/plain": [
       "  0%|          | 0/1 [00:00<?, ?it/s]"
      ]
     },
     "metadata": {},
     "output_type": "display_data"
    },
    {
     "name": "stderr",
     "output_type": "stream",
     "text": [
      "JPEGFixupTagsSubsamplingSec: Warning, Auto-corrected former TIFF subsampling values [2,2] to match subsampling values inside JPEG compressed data [2,1].\n",
      "JPEGFixupTagsSubsamplingSec: Warning, Auto-corrected former TIFF subsampling values [2,2] to match subsampling values inside JPEG compressed data [2,1].\n",
      "JPEGFixupTagsSubsamplingSec: Warning, Auto-corrected former TIFF subsampling values [2,2] to match subsampling values inside JPEG compressed data [2,1].\n",
      "JPEGFixupTagsSubsamplingSec: Warning, Auto-corrected former TIFF subsampling values [2,2] to match subsampling values inside JPEG compressed data [2,1].\n"
     ]
    }
   ],
   "source": [
    "for i in tqdm(range(len(svs_files))):\n",
    "   \n",
    "    file_extension_index=svs_files[i].find('.svs')\n",
    "    fileName=os.path.basename(os.path.splitext(svs_files[i])[0])\n",
    "    slide = slideio.open_slide(svs_files[i], \"SVS\")\n",
    "    scene = slide.get_scene(0)\n",
    "    svsWidth = scene.rect[2]\n",
    "    svsHeight = scene.rect[3]\n",
    "    imageCount=0\n",
    "    magnification=80\n",
    "    tile_size=256\n",
    "    xml_open=xml_files[i]\n",
    "    polygon_xml = ET.parse(xml_open)\n",
    "    root = polygon_xml.getroot()\n",
    "    root=list(root)[0]\n",
    "    root=list(root)\n",
    "    imageCount=0\n",
    "    slide_tile_size=4096\n",
    "    Thumb=np.zeros((int(svsHeight // slide_tile_size)*50,int(svsWidth // slide_tile_size)*50,3),dtype=np.uint8)\n",
    "    heat_map=np.zeros((int(svsHeight // slide_tile_size)*50,int(svsWidth // slide_tile_size)*50,3),dtype=np.uint8)\n",
    "    for widthCount in range(0, int(svsWidth // slide_tile_size)):\n",
    "        for heightCount in range(0, int(svsHeight // slide_tile_size)):\n",
    "            image = scene.read_block((widthCount * slide_tile_size, heightCount * slide_tile_size, slide_tile_size, slide_tile_size),size=(50,50))\n",
    "            matching = [s for s in tile_weight if str(widthCount*4096)+'_'+str(heightCount*4096) in s] \n",
    "            if len(matching)!=0:\n",
    "                score=float(matching[0][-9:-4])\n",
    "            else:\n",
    "                score=0\n",
    "            Thumb[heightCount*50:heightCount*50+50,widthCount*50:widthCount*50+50]=image\n",
    "            image=np.zeros((50,50,3))\n",
    "            image[:,:,2]=255*(1-score)\n",
    "            image[:,:,0]=255*score\n",
    "            heat_map[heightCount*50:heightCount*50+50,widthCount*50:widthCount*50+50]=image"
   ]
  },
  {
   "cell_type": "code",
   "execution_count": 78,
   "metadata": {},
   "outputs": [],
   "source": [
    "img=Image.fromarray(Thumb) \n",
    "img.save('../../data/figure/tile/Thumnail.jpg')\n",
    "img=Image.fromarray(heat_map) \n",
    "img.save('../../data/figure/tile/heatmap.jpg')"
   ]
  }
 ],
 "metadata": {
  "kernelspec": {
   "display_name": "LeeYS_tf210",
   "language": "python",
   "name": "python3"
  },
  "language_info": {
   "codemirror_mode": {
    "name": "ipython",
    "version": 3
   },
   "file_extension": ".py",
   "mimetype": "text/x-python",
   "name": "python",
   "nbconvert_exporter": "python",
   "pygments_lexer": "ipython3",
   "version": "3.9.0"
  },
  "orig_nbformat": 4
 },
 "nbformat": 4,
 "nbformat_minor": 2
}
